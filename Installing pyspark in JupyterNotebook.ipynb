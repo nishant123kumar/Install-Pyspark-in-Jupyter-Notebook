{
 "cells": [
  {
   "cell_type": "markdown",
   "metadata": {},
   "source": [
    "# 1-> Create a new environment in anaconda navigator ex:-pyspark or bigdata\n",
    "\n",
    "# 2->Download latest version of java from the following link :- https://www.oracle.com/in/java/technologies/javase/javase-jdk8-downloads.html and install it\n",
    "\n",
    "# 3-> Download latest version of apache spark from the following link:-https://spark.apache.org/downloads.html.\n",
    "\n",
    "  ## Note:-The downloaded file in the zip format do not unzip it\n",
    "  \n",
    "# 4->Create a new folder in C:/ lets say SPARK and and paste the zip file of apache spark in that folder and after that unzip it.\n",
    "\n",
    "# 5->Open Jupyter Notebook in new environment"
   ]
  },
  {
   "cell_type": "markdown",
   "metadata": {},
   "source": [
    "# run following codes in jupyter notebook (one time)"
   ]
  },
  {
   "cell_type": "code",
   "execution_count": null,
   "metadata": {},
   "outputs": [],
   "source": [
    "!pip install pyspark\n",
    "!pip install findspark\n",
    "!pip install Jpype1"
   ]
  },
  {
   "cell_type": "markdown",
   "metadata": {},
   "source": [
    "# After running above codes in jupyter notebook run the below codes"
   ]
  },
  {
   "cell_type": "code",
   "execution_count": null,
   "metadata": {},
   "outputs": [],
   "source": [
    "# the codes need to run evry time when you use jupyter notebook\n",
    "import findspark\n",
    "import os\n",
    "os.environ[\"JAVA_HOME\"] = \"C:/Program Files/Java/jdk1.8.0_251\"  #this is the path of java file installed version may chenge in future\n",
    "os.environ[\"SPARK_HOME\"] = \"C:/SPARK/spark-3.0.0-bin-hadoop3.2/spark-3.0.0-bin-hadoop3.2\" #this is the path for hadoop note that the SPARK folder is created "
   ]
  },
  {
   "cell_type": "code",
   "execution_count": null,
   "metadata": {},
   "outputs": [],
   "source": [
    "# Now you can use pyspark in jupyter notebook"
   ]
  },
  {
   "cell_type": "code",
   "execution_count": null,
   "metadata": {},
   "outputs": [],
   "source": [
    "#test code\n",
    "from pyspark.sql import SparkSession\n",
    "spark = SparkSession.builder.master(\"local[*]\").getOrCreate()\n",
    "rdd=spark.read.text(\"Hobbit.txt\")\n",
    "rdd.take(5)"
   ]
  }
 ],
 "metadata": {
  "kernelspec": {
   "display_name": "Python 3",
   "language": "python",
   "name": "python3"
  },
  "language_info": {
   "codemirror_mode": {
    "name": "ipython",
    "version": 3
   },
   "file_extension": ".py",
   "mimetype": "text/x-python",
   "name": "python",
   "nbconvert_exporter": "python",
   "pygments_lexer": "ipython3",
   "version": "3.8.3"
  }
 },
 "nbformat": 4,
 "nbformat_minor": 4
}
